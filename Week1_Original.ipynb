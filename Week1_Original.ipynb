{
 "cells": [
  {
   "cell_type": "markdown",
   "metadata": {},
   "source": [
    " # Phase 1 - Ingestion and Cleaning\n",
    "\n",
    " This notebook carries out the following steps\n",
    "   1. Ingest data downloaded from the LendingClub website\n",
    "   2. Choose columns to examine and prepare the data set\n",
    "   3. Visualizes single variable summaries\n",
    "   4. Removes outliers\n",
    "   5. Output a dataset ready for later analysis\n",
    "\n",
    " Things for you to add\n",
    " - Choose 3 to 5 variables and add them to the list of variables below\n",
    " - Try visualizing the new variables and other pairs of variables\n",
    "\n",
    " Prepare your presentation. Your presentation should contain at most 6 slides.\n",
    " 1. Begin by giving an overview of the project. What is the problem you wish to solve, what are the objectives? How will you evaluate the performance of the portfolio you provide? How will you measure success? What are the business KPIs?\n",
    " 2. What variables did you select for further inspection? Why do you think they will be useful? You may support any argument with a visualization.\n",
    " 3. List any insight you gained by looking at the data visualization or any other data analysis that you perform.\n",
    " 4. List 3-5 hypothesis about which variables will be important for analysis, and how they will affect the outcome.\n",
    " 5. State your conclusions. What is the main idea you wish to convey with the presentation? Do you think the data available will be useful to solve the problem?"
   ]
  },
  {
   "cell_type": "markdown",
   "metadata": {},
   "source": [
    "## Python Code"
   ]
  },
  {
   "cell_type": "code",
   "execution_count": 7,
   "metadata": {},
   "outputs": [],
   "source": [
    "import pandas as pd\n",
    "import os\n",
    "from sys import platform\n",
    "import matplotlib.pyplot as plt\n",
    "import datetime\n",
    "import numpy as np\n",
    "import pickle\n",
    "import seaborn"
   ]
  },
  {
   "cell_type": "code",
   "execution_count": 8,
   "metadata": {},
   "outputs": [],
   "source": [
    "def is_integer(x):\n",
    "    '''\n",
    "    This function returns True if x is an integer, and False otherwise\n",
    "    '''\n",
    "    try:\n",
    "        return (int(x) == float(x))\n",
    "    except:\n",
    "        return False"
   ]
  },
  {
   "cell_type": "markdown",
   "metadata": {},
   "source": [
    " ## Parameters"
   ]
  },
  {
   "cell_type": "code",
   "execution_count": 10,
   "metadata": {},
   "outputs": [],
   "source": [
    "dir_data = \"C:\\\\Users\\\\ly266e\\\\Documents\\\\Training\\\\CMU\\\\Master\\\\Fall 2023 Mini 7\\\\Business_Analytics\\\\HW\\\\General\\\\Week_1\\\\data\""
   ]
  },
  {
   "cell_type": "markdown",
   "metadata": {},
   "source": [
    " ## Step 1 - Ingestion\n",
    " Ingest the data files from both sets, perform consistency checks, and prepare one single file for each set"
   ]
  },
  {
   "cell_type": "code",
   "execution_count": 11,
   "metadata": {},
   "outputs": [],
   "source": [
    "from typing import Dict, final\n",
    "def ingest_files(directory: str) -> Dict:\n",
    "    '''\n",
    "    This function will ingest every file in the specified directory\n",
    "    into a pandas dataframe. It will return a dictionary containing\n",
    "    these dataframes, keyed by the file name.\n",
    "    \n",
    "    We assume the directory contains files directly downloaded from\n",
    "    Lending Club, and *only* those files. Thus, we assume the files are zipped\n",
    "    (pd.read_csv can read zipped files) and we assume the first line\n",
    "    in each file needs to be skipped. \n",
    "    \n",
    "    Note that this function will read and ingest more than one file and is\n",
    "    convenient if you want to ingest data for more than one year at a time.\n",
    "    \n",
    "    Note that each file will be read *without* formatting\n",
    "    '''\n",
    "    \n",
    "    # If the directory has no trailing slash, add one\n",
    "    if directory[-1] != \"/\":\n",
    "        directory = directory + \"/\"\n",
    "    \n",
    "    all_files = os.listdir(directory)\n",
    "    output = {}\n",
    "    \n",
    "    print(\"Directory \" + directory + \" has \" + str(len(all_files)) + \" files:\")\n",
    "    for i in all_files:\n",
    "        print(\"    Reading file \" + i)\n",
    "        output[i] = pd.read_csv(directory + i, dtype = str, skiprows = 1)\n",
    "        \n",
    "        # Some of the files have \"summary\" lines that, for example\n",
    "        # read \"Total number of loans number in Policy 1: .....\"\n",
    "        # To remove those lines, find any lines with non-integer IDs\n",
    "        # and remove them\n",
    "        invalid_rows = (output[i].id.apply( lambda x : is_integer(x) == False ))\n",
    "        if invalid_rows.sum() > 0:\n",
    "            print(\"        Found \" + str(invalid_rows.sum()) + \" invalid rows which were removed\")\n",
    "            output[i] = output[i][invalid_rows == False]\n",
    "    \n",
    "    return output"
   ]
  },
  {
   "cell_type": "code",
   "execution_count": 12,
   "metadata": {},
   "outputs": [
    {
     "name": "stdout",
     "output_type": "stream",
     "text": [
      "Directory C:\\Users\\ly266e\\Documents\\Training\\CMU\\Master\\Fall 2023 Mini 7\\Business_Analytics\\HW\\General\\Week_1\\data/ has 2 files:\n",
      "    Reading file LoanStats3b.csv\n",
      "        Found 2 invalid rows which were removed\n",
      "    Reading file LoanStats3c.csv\n",
      "        Found 2 invalid rows which were removed\n"
     ]
    }
   ],
   "source": [
    "# Ingest the set of files we downloaded \n",
    "files_data = ingest_files(dir_data)"
   ]
  },
  {
   "cell_type": "code",
   "execution_count": 13,
   "metadata": {},
   "outputs": [
    {
     "data": {
      "text/plain": [
       "dict_keys(['LoanStats3b.csv', 'LoanStats3c.csv'])"
      ]
     },
     "execution_count": 13,
     "metadata": {},
     "output_type": "execute_result"
    }
   ],
   "source": [
    "files_data.keys()"
   ]
  },
  {
   "cell_type": "code",
   "execution_count": 14,
   "metadata": {},
   "outputs": [
    {
     "data": {
      "text/plain": [
       "['id',\n",
       " 'member_id',\n",
       " 'loan_amnt',\n",
       " 'funded_amnt',\n",
       " 'funded_amnt_inv',\n",
       " 'term',\n",
       " 'int_rate',\n",
       " 'installment',\n",
       " 'grade',\n",
       " 'sub_grade',\n",
       " 'emp_title',\n",
       " 'emp_length',\n",
       " 'home_ownership',\n",
       " 'annual_inc',\n",
       " 'verification_status',\n",
       " 'issue_d',\n",
       " 'loan_status',\n",
       " 'pymnt_plan',\n",
       " 'url',\n",
       " 'desc',\n",
       " 'purpose',\n",
       " 'title',\n",
       " 'zip_code',\n",
       " 'addr_state',\n",
       " 'dti',\n",
       " 'delinq_2yrs',\n",
       " 'earliest_cr_line',\n",
       " 'inq_last_6mths',\n",
       " 'mths_since_last_delinq',\n",
       " 'mths_since_last_record',\n",
       " 'open_acc',\n",
       " 'pub_rec',\n",
       " 'revol_bal',\n",
       " 'revol_util',\n",
       " 'total_acc',\n",
       " 'initial_list_status',\n",
       " 'out_prncp',\n",
       " 'out_prncp_inv',\n",
       " 'total_pymnt',\n",
       " 'total_pymnt_inv',\n",
       " 'total_rec_prncp',\n",
       " 'total_rec_int',\n",
       " 'total_rec_late_fee',\n",
       " 'recoveries',\n",
       " 'collection_recovery_fee',\n",
       " 'last_pymnt_d',\n",
       " 'last_pymnt_amnt',\n",
       " 'next_pymnt_d',\n",
       " 'last_credit_pull_d',\n",
       " 'collections_12_mths_ex_med',\n",
       " 'mths_since_last_major_derog',\n",
       " 'policy_code',\n",
       " 'application_type',\n",
       " 'annual_inc_joint',\n",
       " 'dti_joint',\n",
       " 'verification_status_joint',\n",
       " 'acc_now_delinq',\n",
       " 'tot_coll_amt',\n",
       " 'tot_cur_bal',\n",
       " 'open_acc_6m',\n",
       " 'open_il_6m',\n",
       " 'open_il_12m',\n",
       " 'open_il_24m',\n",
       " 'mths_since_rcnt_il',\n",
       " 'total_bal_il',\n",
       " 'il_util',\n",
       " 'open_rv_12m',\n",
       " 'open_rv_24m',\n",
       " 'max_bal_bc',\n",
       " 'all_util',\n",
       " 'total_rev_hi_lim',\n",
       " 'inq_fi',\n",
       " 'total_cu_tl',\n",
       " 'inq_last_12m',\n",
       " 'acc_open_past_24mths',\n",
       " 'avg_cur_bal',\n",
       " 'bc_open_to_buy',\n",
       " 'bc_util',\n",
       " 'chargeoff_within_12_mths',\n",
       " 'delinq_amnt',\n",
       " 'mo_sin_old_il_acct',\n",
       " 'mo_sin_old_rev_tl_op',\n",
       " 'mo_sin_rcnt_rev_tl_op',\n",
       " 'mo_sin_rcnt_tl',\n",
       " 'mort_acc',\n",
       " 'mths_since_recent_bc',\n",
       " 'mths_since_recent_bc_dlq',\n",
       " 'mths_since_recent_inq',\n",
       " 'mths_since_recent_revol_delinq',\n",
       " 'num_accts_ever_120_pd',\n",
       " 'num_actv_bc_tl',\n",
       " 'num_actv_rev_tl',\n",
       " 'num_bc_sats',\n",
       " 'num_bc_tl',\n",
       " 'num_il_tl',\n",
       " 'num_op_rev_tl',\n",
       " 'num_rev_accts',\n",
       " 'num_rev_tl_bal_gt_0',\n",
       " 'num_sats',\n",
       " 'num_tl_120dpd_2m',\n",
       " 'num_tl_30dpd',\n",
       " 'num_tl_90g_dpd_24m',\n",
       " 'num_tl_op_past_12m',\n",
       " 'pct_tl_nvr_dlq',\n",
       " 'percent_bc_gt_75',\n",
       " 'pub_rec_bankruptcies',\n",
       " 'tax_liens',\n",
       " 'tot_hi_cred_lim',\n",
       " 'total_bal_ex_mort',\n",
       " 'total_bc_limit',\n",
       " 'total_il_high_credit_limit']"
      ]
     },
     "execution_count": 14,
     "metadata": {},
     "output_type": "execute_result"
    }
   ],
   "source": [
    "data_now = pd.concat(files_data.values()).reset_index(drop = True)\n",
    "columns = list(data_now.columns)\n",
    "columns"
   ]
  },
  {
   "cell_type": "code",
   "execution_count": 15,
   "metadata": {},
   "outputs": [
    {
     "name": "stdout",
     "output_type": "stream",
     "text": [
      "The number of columns is: 111\n"
     ]
    }
   ],
   "source": [
    "print(f\"The number of columns is: {len(columns)}\")"
   ]
  },
  {
   "cell_type": "code",
   "execution_count": 16,
   "metadata": {},
   "outputs": [
    {
     "data": {
      "text/html": [
       "<div>\n",
       "<style scoped>\n",
       "    .dataframe tbody tr th:only-of-type {\n",
       "        vertical-align: middle;\n",
       "    }\n",
       "\n",
       "    .dataframe tbody tr th {\n",
       "        vertical-align: top;\n",
       "    }\n",
       "\n",
       "    .dataframe thead th {\n",
       "        text-align: right;\n",
       "    }\n",
       "</style>\n",
       "<table border=\"1\" class=\"dataframe\">\n",
       "  <thead>\n",
       "    <tr style=\"text-align: right;\">\n",
       "      <th></th>\n",
       "      <th>id</th>\n",
       "      <th>member_id</th>\n",
       "      <th>loan_amnt</th>\n",
       "      <th>funded_amnt</th>\n",
       "      <th>funded_amnt_inv</th>\n",
       "      <th>term</th>\n",
       "      <th>int_rate</th>\n",
       "      <th>installment</th>\n",
       "      <th>grade</th>\n",
       "      <th>sub_grade</th>\n",
       "      <th>...</th>\n",
       "      <th>num_tl_90g_dpd_24m</th>\n",
       "      <th>num_tl_op_past_12m</th>\n",
       "      <th>pct_tl_nvr_dlq</th>\n",
       "      <th>percent_bc_gt_75</th>\n",
       "      <th>pub_rec_bankruptcies</th>\n",
       "      <th>tax_liens</th>\n",
       "      <th>tot_hi_cred_lim</th>\n",
       "      <th>total_bal_ex_mort</th>\n",
       "      <th>total_bc_limit</th>\n",
       "      <th>total_il_high_credit_limit</th>\n",
       "    </tr>\n",
       "  </thead>\n",
       "  <tbody>\n",
       "    <tr>\n",
       "      <th>0</th>\n",
       "      <td>10129403</td>\n",
       "      <td>11981032</td>\n",
       "      <td>7550</td>\n",
       "      <td>7550</td>\n",
       "      <td>7550</td>\n",
       "      <td>36 months</td>\n",
       "      <td>16.24%</td>\n",
       "      <td>266.34</td>\n",
       "      <td>C</td>\n",
       "      <td>C5</td>\n",
       "      <td>...</td>\n",
       "      <td>0</td>\n",
       "      <td>0</td>\n",
       "      <td>100</td>\n",
       "      <td>100</td>\n",
       "      <td>0</td>\n",
       "      <td>0</td>\n",
       "      <td>8000</td>\n",
       "      <td>5759</td>\n",
       "      <td>4000</td>\n",
       "      <td>0</td>\n",
       "    </tr>\n",
       "    <tr>\n",
       "      <th>1</th>\n",
       "      <td>10149342</td>\n",
       "      <td>12000897</td>\n",
       "      <td>27050</td>\n",
       "      <td>27050</td>\n",
       "      <td>27050</td>\n",
       "      <td>36 months</td>\n",
       "      <td>10.99%</td>\n",
       "      <td>885.46</td>\n",
       "      <td>B</td>\n",
       "      <td>B2</td>\n",
       "      <td>...</td>\n",
       "      <td>0</td>\n",
       "      <td>1</td>\n",
       "      <td>100</td>\n",
       "      <td>25</td>\n",
       "      <td>0</td>\n",
       "      <td>0</td>\n",
       "      <td>138554</td>\n",
       "      <td>70186</td>\n",
       "      <td>35700</td>\n",
       "      <td>33054</td>\n",
       "    </tr>\n",
       "    <tr>\n",
       "      <th>2</th>\n",
       "      <td>10159584</td>\n",
       "      <td>12011200</td>\n",
       "      <td>9750</td>\n",
       "      <td>9750</td>\n",
       "      <td>9750</td>\n",
       "      <td>36 months</td>\n",
       "      <td>13.98%</td>\n",
       "      <td>333.14</td>\n",
       "      <td>C</td>\n",
       "      <td>C1</td>\n",
       "      <td>...</td>\n",
       "      <td>0</td>\n",
       "      <td>2</td>\n",
       "      <td>100</td>\n",
       "      <td>66.7</td>\n",
       "      <td>0</td>\n",
       "      <td>0</td>\n",
       "      <td>21314</td>\n",
       "      <td>14123</td>\n",
       "      <td>7200</td>\n",
       "      <td>6214</td>\n",
       "    </tr>\n",
       "    <tr>\n",
       "      <th>3</th>\n",
       "      <td>10159498</td>\n",
       "      <td>1319523</td>\n",
       "      <td>12000</td>\n",
       "      <td>12000</td>\n",
       "      <td>12000</td>\n",
       "      <td>36 months</td>\n",
       "      <td>6.62%</td>\n",
       "      <td>368.45</td>\n",
       "      <td>A</td>\n",
       "      <td>A2</td>\n",
       "      <td>...</td>\n",
       "      <td>0</td>\n",
       "      <td>2</td>\n",
       "      <td>95.5</td>\n",
       "      <td>0</td>\n",
       "      <td>0</td>\n",
       "      <td>0</td>\n",
       "      <td>333044</td>\n",
       "      <td>42603</td>\n",
       "      <td>52600</td>\n",
       "      <td>42769</td>\n",
       "    </tr>\n",
       "    <tr>\n",
       "      <th>4</th>\n",
       "      <td>10129506</td>\n",
       "      <td>11981122</td>\n",
       "      <td>20800</td>\n",
       "      <td>20800</td>\n",
       "      <td>20800</td>\n",
       "      <td>36 months</td>\n",
       "      <td>13.53%</td>\n",
       "      <td>706.16</td>\n",
       "      <td>B</td>\n",
       "      <td>B5</td>\n",
       "      <td>...</td>\n",
       "      <td>0</td>\n",
       "      <td>3</td>\n",
       "      <td>90.2</td>\n",
       "      <td>50</td>\n",
       "      <td>0</td>\n",
       "      <td>0</td>\n",
       "      <td>43100</td>\n",
       "      <td>23473</td>\n",
       "      <td>15000</td>\n",
       "      <td>0</td>\n",
       "    </tr>\n",
       "  </tbody>\n",
       "</table>\n",
       "<p>5 rows × 111 columns</p>\n",
       "</div>"
      ],
      "text/plain": [
       "         id member_id loan_amnt funded_amnt funded_amnt_inv        term  \\\n",
       "0  10129403  11981032      7550        7550            7550   36 months   \n",
       "1  10149342  12000897     27050       27050           27050   36 months   \n",
       "2  10159584  12011200      9750        9750            9750   36 months   \n",
       "3  10159498   1319523     12000       12000           12000   36 months   \n",
       "4  10129506  11981122     20800       20800           20800   36 months   \n",
       "\n",
       "  int_rate installment grade sub_grade  ... num_tl_90g_dpd_24m  \\\n",
       "0   16.24%      266.34     C        C5  ...                  0   \n",
       "1   10.99%      885.46     B        B2  ...                  0   \n",
       "2   13.98%      333.14     C        C1  ...                  0   \n",
       "3    6.62%      368.45     A        A2  ...                  0   \n",
       "4   13.53%      706.16     B        B5  ...                  0   \n",
       "\n",
       "  num_tl_op_past_12m pct_tl_nvr_dlq percent_bc_gt_75 pub_rec_bankruptcies  \\\n",
       "0                  0            100              100                    0   \n",
       "1                  1            100               25                    0   \n",
       "2                  2            100             66.7                    0   \n",
       "3                  2           95.5                0                    0   \n",
       "4                  3           90.2               50                    0   \n",
       "\n",
       "  tax_liens tot_hi_cred_lim total_bal_ex_mort total_bc_limit  \\\n",
       "0         0            8000              5759           4000   \n",
       "1         0          138554             70186          35700   \n",
       "2         0           21314             14123           7200   \n",
       "3         0          333044             42603          52600   \n",
       "4         0           43100             23473          15000   \n",
       "\n",
       "  total_il_high_credit_limit  \n",
       "0                          0  \n",
       "1                      33054  \n",
       "2                       6214  \n",
       "3                      42769  \n",
       "4                          0  \n",
       "\n",
       "[5 rows x 111 columns]"
      ]
     },
     "execution_count": 16,
     "metadata": {},
     "output_type": "execute_result"
    }
   ],
   "source": [
    "data_now.head()"
   ]
  },
  {
   "cell_type": "markdown",
   "metadata": {},
   "source": [
    "| Number of Days Past Due | Status |\n",
    "| -- | -- |\n",
    "| 0 | Current |\n",
    "| 16-120 | Late | \n",
    "| 121-150 | Default |\n",
    "| 150+ | Charged-Off |\n",
    "\n",
    "- If LendingClub has decided that the loan will not be paid off, then it is given the status of **`Charged-Off`**.\n",
    "- If the payment is delayed by more than 121 days, the loan is considered as being in **`Default`**.\n",
    "- These dynamics imply that five months after the term of each loan has ended, every loan ends in one of two LendingClub states **`fully paid`** or **`charged-off`**.\n",
    "\n",
    "\n",
    "### Suggested List of Initial Columns:\n",
    "\n",
    "- id\n",
    "- loan_amnt\n",
    "- funded_amnt\n",
    "- term\n",
    "- int_rate\n",
    "- grade\n",
    "- emp_length \n",
    "- home_ownership\n",
    "- annual_inc\n",
    "- verification_status\n",
    "- issue_d\n",
    "- loan_status\n",
    "- purpose\n",
    "- dti\n",
    "- delinq_2yrs\n",
    "- earliest_cr_line\n",
    "- open_acc\n",
    "- pub_rec\n",
    "- revol_bal\n",
    "- revol_util\n",
    "- total_pymnt\n",
    "- last_pymn_d\n",
    "- recoveries."
   ]
  },
  {
   "cell_type": "markdown",
   "metadata": {},
   "source": [
    "| Column Name          | Description                                                                                     | Potential Significance for Analysis                  |\n",
    "|---------------------|-------------------------------------------------------------------------------------------------|------------------------------------------------------|\n",
    "| id                  | A unique LC assigned ID for the loan listing.                                                    | Unique identifier for loans                          |\n",
    "| loan_amnt           | The listed amount of the loan applied for by the borrower.                                       | Loan size; higher amounts might be riskier           |\n",
    "| funded_amnt         | The total amount committed to that loan at that point in time.                                   | Amount actually disbursed; may differ from requested |\n",
    "| term                | The number of payments on the loan. Values are in months and can be either 36 or 60.             | Loan term; longer terms may be riskier               |\n",
    "| int_rate            | Interest Rate on the loan.                                                                       | Cost of loan; higher rates may indicate higher risk  |\n",
    "| grade               | LC assigned loan grade.                                                                          | Overall risk assessment                              |\n",
    "| emp_length          | Employment length in years.                                                                      | Stability of income                                  |\n",
    "| home_ownership      | The home ownership status provided by the borrower.                                              | Indicator of financial stability                      |\n",
    "| annual_inc          | The self-reported annual income provided by the borrower.                                        | Ability to repay the loan                             |\n",
    "| verification_status | Indicates if income was verified by LC, not verified, or if the income source was verified.       | Trustworthiness of the borrower's reported data       |\n",
    "| issue_d             | The month the loan was funded.                                                                   | Timing for seasonality analysis                       |\n",
    "| loan_status         | Current status of the loan.                                                                      | Target variable for predictive modeling               |\n",
    "| purpose             | A category provided by the borrower for the loan request.                                        | Purpose can indicate level of risk                    |\n",
    "| dti                 | A ratio calculated using the borrower’s total monthly debt payments on the total debt obligations.| Financial stability of the borrower                   |\n",
    "| delinq_2yrs         | The number of 30+ days past-due incidences of delinquency in the borrower's credit file.         | Creditworthiness                                      |\n",
    "| earliest_cr_line    | The month the borrower's earliest reported credit line was opened.                               | Credit history length                                 |\n",
    "| open_acc            | The number of open credit lines in the borrower's credit file.                                   | Ability to manage credit                              |\n",
    "| pub_rec             | Number of derogatory public records.                                                             | Legal issues affecting creditworthiness               |\n",
    "| revol_bal           | Total credit revolving balance.                                                                  | Ongoing debt level                                    |\n",
    "| revol_util          | Revolving line utilization rate.                                                                 | Credit line utilization                               |\n",
    "| total_pymnt         | Payments received to date for the total amount funded.                                           | Repayment behavior                                    |\n",
    "| last_pymnt_d        | Last month payment was received.                                                                 | Recency of payment                                    |\n",
    "| recoveries          | Post charge-off gross recovery.                                                                  | Amount recovered after default                        |\n"
   ]
  },
  {
   "cell_type": "code",
   "execution_count": 17,
   "metadata": {},
   "outputs": [
    {
     "data": {
      "text/html": [
       "<div>\n",
       "<style scoped>\n",
       "    .dataframe tbody tr th:only-of-type {\n",
       "        vertical-align: middle;\n",
       "    }\n",
       "\n",
       "    .dataframe tbody tr th {\n",
       "        vertical-align: top;\n",
       "    }\n",
       "\n",
       "    .dataframe thead th {\n",
       "        text-align: right;\n",
       "    }\n",
       "</style>\n",
       "<table border=\"1\" class=\"dataframe\">\n",
       "  <thead>\n",
       "    <tr style=\"text-align: right;\">\n",
       "      <th></th>\n",
       "      <th>loan_status</th>\n",
       "      <th>loan_amnt</th>\n",
       "    </tr>\n",
       "  </thead>\n",
       "  <tbody>\n",
       "    <tr>\n",
       "      <th>0</th>\n",
       "      <td>Current</td>\n",
       "      <td>7550</td>\n",
       "    </tr>\n",
       "    <tr>\n",
       "      <th>1</th>\n",
       "      <td>Current</td>\n",
       "      <td>27050</td>\n",
       "    </tr>\n",
       "    <tr>\n",
       "      <th>2</th>\n",
       "      <td>Current</td>\n",
       "      <td>9750</td>\n",
       "    </tr>\n",
       "    <tr>\n",
       "      <th>3</th>\n",
       "      <td>Current</td>\n",
       "      <td>12000</td>\n",
       "    </tr>\n",
       "    <tr>\n",
       "      <th>4</th>\n",
       "      <td>Fully Paid</td>\n",
       "      <td>20800</td>\n",
       "    </tr>\n",
       "  </tbody>\n",
       "</table>\n",
       "</div>"
      ],
      "text/plain": [
       "  loan_status loan_amnt\n",
       "0     Current      7550\n",
       "1     Current     27050\n",
       "2     Current      9750\n",
       "3     Current     12000\n",
       "4  Fully Paid     20800"
      ]
     },
     "execution_count": 17,
     "metadata": {},
     "output_type": "execute_result"
    }
   ],
   "source": [
    "columns_interest = ['loan_status', 'loan_amnt']\n",
    "data_now[columns_interest].head(5)"
   ]
  },
  {
   "cell_type": "markdown",
   "metadata": {},
   "source": [
    " ## Step 2 - Choose Columns and Prepare Dataset"
   ]
  },
  {
   "cell_type": "code",
   "execution_count": 2,
   "metadata": {},
   "outputs": [],
   "source": [
    "# # Original Set\n",
    "# # Identify the columns we'll be keeping from the dataset\n",
    "# cols_to_pick = ['id','loan_amnt','funded_amnt','term','int_rate',\n",
    "#                  'installment','grade','emp_length', 'home_ownership',\n",
    "#                  'annual_inc','verification_status','issue_d',\n",
    "#                  'loan_status','purpose','dti', 'delinq_2yrs',\n",
    "#                  'earliest_cr_line','open_acc','pub_rec',\n",
    "#                  'revol_bal','revol_util', 'total_pymnt',\n",
    "#                  'last_pymnt_d', 'recoveries']\n",
    "\n",
    "# # Identify the type of each of these column\n",
    "# float_cols = ['loan_amnt', 'funded_amnt', 'installment', 'annual_inc',\n",
    "#                      'dti', 'revol_bal', 'delinq_2yrs', 'open_acc', 'pub_rec',\n",
    "#                                 'total_pymnt', 'recoveries']\n",
    "# cat_cols = ['term', 'grade', 'emp_length', 'home_ownership',\n",
    "#                     'verification_status', 'loan_status', 'purpose']\n",
    "# perc_cols = ['int_rate', 'revol_util']\n",
    "# date_cols = ['issue_d', 'earliest_cr_line', 'last_pymnt_d']\n",
    "\n",
    "# # Ensure that we have types for every column\n",
    "# assert set(cols_to_pick) - set(float_cols) - set(cat_cols) - set(perc_cols) - set(date_cols) == set([\"id\"])"
   ]
  },
  {
   "cell_type": "code",
   "execution_count": 18,
   "metadata": {},
   "outputs": [],
   "source": [
    "# Identify the columns we'll be keeping from the dataset\n",
    "cols_to_pick = ['id','loan_amnt', 'int_rate', 'grade','dti', 'loan_status']\n",
    "\n",
    "# Identify the type of each of these column\n",
    "float_cols = ['loan_amnt', 'dti']\n",
    "cat_cols = ['grade','loan_status']\n",
    "perc_cols = ['int_rate']\n",
    "#date_cols = []\n",
    "\n",
    "# Ensure that we have types for every column\n",
    "assert set(cols_to_pick) - set(float_cols) - set(cat_cols) - set(perc_cols) - set(date_cols) == set([\"id\"])\n",
    "#assert set(cols_to_pick) - set(float_cols) - set(cat_cols) - set(perc_cols) == set([\"id\"])"
   ]
  },
  {
   "cell_type": "code",
   "execution_count": 19,
   "metadata": {},
   "outputs": [],
   "source": [
    "# Keep only the columns of interest\n",
    "final_data = data_now[cols_to_pick].copy()"
   ]
  },
  {
   "cell_type": "code",
   "execution_count": 20,
   "metadata": {},
   "outputs": [
    {
     "data": {
      "text/html": [
       "<div>\n",
       "<style scoped>\n",
       "    .dataframe tbody tr th:only-of-type {\n",
       "        vertical-align: middle;\n",
       "    }\n",
       "\n",
       "    .dataframe tbody tr th {\n",
       "        vertical-align: top;\n",
       "    }\n",
       "\n",
       "    .dataframe thead th {\n",
       "        text-align: right;\n",
       "    }\n",
       "</style>\n",
       "<table border=\"1\" class=\"dataframe\">\n",
       "  <thead>\n",
       "    <tr style=\"text-align: right;\">\n",
       "      <th></th>\n",
       "      <th>id</th>\n",
       "      <th>loan_amnt</th>\n",
       "      <th>int_rate</th>\n",
       "      <th>grade</th>\n",
       "      <th>dti</th>\n",
       "      <th>loan_status</th>\n",
       "    </tr>\n",
       "  </thead>\n",
       "  <tbody>\n",
       "    <tr>\n",
       "      <th>0</th>\n",
       "      <td>10129403</td>\n",
       "      <td>7550</td>\n",
       "      <td>16.24%</td>\n",
       "      <td>C</td>\n",
       "      <td>8.4</td>\n",
       "      <td>Current</td>\n",
       "    </tr>\n",
       "    <tr>\n",
       "      <th>1</th>\n",
       "      <td>10149342</td>\n",
       "      <td>27050</td>\n",
       "      <td>10.99%</td>\n",
       "      <td>B</td>\n",
       "      <td>22.87</td>\n",
       "      <td>Current</td>\n",
       "    </tr>\n",
       "    <tr>\n",
       "      <th>2</th>\n",
       "      <td>10159584</td>\n",
       "      <td>9750</td>\n",
       "      <td>13.98%</td>\n",
       "      <td>C</td>\n",
       "      <td>25.12</td>\n",
       "      <td>Current</td>\n",
       "    </tr>\n",
       "    <tr>\n",
       "      <th>3</th>\n",
       "      <td>10159498</td>\n",
       "      <td>12000</td>\n",
       "      <td>6.62%</td>\n",
       "      <td>A</td>\n",
       "      <td>14.05</td>\n",
       "      <td>Current</td>\n",
       "    </tr>\n",
       "    <tr>\n",
       "      <th>4</th>\n",
       "      <td>10129506</td>\n",
       "      <td>20800</td>\n",
       "      <td>13.53%</td>\n",
       "      <td>B</td>\n",
       "      <td>16.73</td>\n",
       "      <td>Fully Paid</td>\n",
       "    </tr>\n",
       "  </tbody>\n",
       "</table>\n",
       "</div>"
      ],
      "text/plain": [
       "         id loan_amnt int_rate grade    dti loan_status\n",
       "0  10129403      7550   16.24%     C    8.4     Current\n",
       "1  10149342     27050   10.99%     B  22.87     Current\n",
       "2  10159584      9750   13.98%     C  25.12     Current\n",
       "3  10159498     12000    6.62%     A  14.05     Current\n",
       "4  10129506     20800   13.53%     B  16.73  Fully Paid"
      ]
     },
     "execution_count": 20,
     "metadata": {},
     "output_type": "execute_result"
    }
   ],
   "source": [
    "final_data.head()"
   ]
  },
  {
   "cell_type": "code",
   "execution_count": 21,
   "metadata": {},
   "outputs": [
    {
     "name": "stdout",
     "output_type": "stream",
     "text": [
      "Starting with 423752 rows\n"
     ]
    }
   ],
   "source": [
    "print(\"Starting with \" + str(len(final_data)) + \" rows\")"
   ]
  },
  {
   "cell_type": "markdown",
   "metadata": {},
   "source": [
    " # To do (A)\n",
    "\n",
    " Choose 3 to 5 variables and add them to the list of variables below\n",
    "\n",
    " You should consult the data description (excel) file you downloaded to understand the definition of various available columns\n",
    "\n",
    " TIP: If you added new variables, be sure to clean them as we just did for the default variables.\n",
    "\n",
    " You will have to add them to the group of the right type of variables (e.g. percentage, date, categorical)\n"
   ]
  },
  {
   "cell_type": "code",
   "execution_count": null,
   "metadata": {},
   "outputs": [],
   "source": [
    "# Update the columns to pick\n",
    "cols_to_pick.extend(['zip_code', 'sub_grade', 'inq_last_6mths', 'acc_now_delinq', 'mths_since_last_delinq'])\n",
    "\n",
    "# Update the type of each of these new columns\n",
    "float_cols.extend(['inq_last_6mths', 'acc_now_delinq', 'mths_since_last_delinq'])\n",
    "cat_cols.extend(['zip_code', 'sub_grade'])\n",
    "\n",
    "# Ensure that we have types for every column\n",
    "assert set(cols_to_pick) - set(float_cols) - set(cat_cols) - set(perc_cols) - set(date_cols) == set([\"id\"])\n",
    "# Keep only the columns of interest\n",
    "final_data = data_now[cols_to_pick].copy()\n",
    "\n",
    "print(\"Starting with \" + str(len(final_data)) + \" rows\")"
   ]
  },
  {
   "cell_type": "code",
   "execution_count": null,
   "metadata": {},
   "outputs": [],
   "source": [
    "final_data.head()"
   ]
  },
  {
   "cell_type": "markdown",
   "metadata": {},
   "source": [
    " ### Typecast the columns"
   ]
  },
  {
   "cell_type": "code",
   "execution_count": null,
   "metadata": {},
   "outputs": [],
   "source": [
    "for i in float_cols:\n",
    "    final_data[i] = final_data[i].astype(float)\n",
    "    \n",
    "def clean_perc(x):\n",
    "    if pd.isnull(x):\n",
    "        return np.nan\n",
    "    else:\n",
    "        return float(x.rstrip()[:-1])\n",
    "    \n",
    "for i in perc_cols:\n",
    "    final_data[i] = final_data[i].apply( clean_perc )\n",
    "    \n",
    "def clean_date(x):\n",
    "    if pd.isnull(x):\n",
    "        return None\n",
    "    else:\n",
    "        return datetime.datetime.strptime( x, \"%b-%Y\").date()\n",
    "for i in date_cols:\n",
    "    final_data[i] = final_data[i].apply( clean_date )\n",
    "    \n",
    "for i in cat_cols:\n",
    "    final_data.loc[final_data[i].isnull(), i] = None"
   ]
  },
  {
   "cell_type": "code",
   "execution_count": null,
   "metadata": {},
   "outputs": [],
   "source": [
    "final_data.head()"
   ]
  },
  {
   "cell_type": "code",
   "execution_count": null,
   "metadata": {},
   "outputs": [],
   "source": [
    "final_data.isnull().sum()"
   ]
  },
  {
   "cell_type": "code",
   "execution_count": null,
   "metadata": {},
   "outputs": [],
   "source": [
    "# # Handling missing values\n",
    "# final_data['emp_length'].fillna('Not Provided', inplace=True)  # Filling missing values with 'Not Provided'\n",
    "# final_data['revol_util'].fillna(final_data['revol_util'].median(), inplace=True)  # Filling with median\n",
    "# final_data['last_pymnt_d'].fillna('No Payment', inplace=True)  # Filling missing values with 'No Payment'\n",
    "\n",
    "# # For 'mths_since_last_delinq', it's a large number of missing values.\n",
    "# # Depending on business logic, you might want to fill it with a value or create a flag column\n",
    "# final_data['mths_since_last_delinq'].fillna(999, inplace=True)  # Filling with 999 to signify missing data\n",
    "\n",
    "# # Check if all missing values are handled\n",
    "# assert final_data.isnull().sum().sum() == 0"
   ]
  },
  {
   "cell_type": "markdown",
   "metadata": {},
   "source": [
    " ## Step 3- Visualize the variables"
   ]
  },
  {
   "cell_type": "code",
   "execution_count": null,
   "metadata": {},
   "outputs": [],
   "source": [
    "import matplotlib.pyplot as plt\n",
    "plt.figure(figsize=(4,4))\n",
    "def visualize_columns():\n",
    "    \n",
    "    '''\n",
    "    This function visualizes all columns\n",
    "      - Box-and-whisker plots for continuous variables\n",
    "      - Lists of distinct values for categorical columns\n",
    "      - A timeline density for dates\n",
    "    '''\n",
    "    \n",
    "    # Float columns\n",
    "    for i in float_cols + perc_cols:\n",
    "        # seaborn.boxplot(final_data[i])\n",
    "        final_data.boxplot(i)\n",
    "\n",
    "        # Print the three highest values\n",
    "        highest_vals = sorted(final_data[i], reverse=True)[:3]\n",
    "        smallest_val = min(final_data[i])\n",
    "        print(\"Top 3 Max: \", highest_vals, \"\\nMin: \", smallest_val)\n",
    "        # plt.text(smallest_val, -0.3, highest_vals[0])\n",
    "        # plt.text(smallest_val, -0.2, highest_vals[1])\n",
    "        # plt.text(smallest_val, -0.1, highest_vals[2])\n",
    "\n",
    "        plt.show()\n",
    "        \n",
    "    # Categorical columns \n",
    "    for i in cat_cols:\n",
    "        print(i)\n",
    "        print(str(len(set(final_data[i]))) + \" distinct values\")\n",
    "        print(final_data[i].value_counts())\n",
    "        print(\"\")\n",
    "        print(\"\")\n",
    "    \n",
    "    # Date columns\n",
    "    for i in date_cols:\n",
    "        final_data[final_data[i].isnull() == False][i].apply(lambda x : str(x.year) +\n",
    "                                                \"-\" + str(x.month)).value_counts(ascending = True).plot()\n",
    "        plt.title(i + \" (\" + str(final_data[i].isnull().sum()) + \" null values)\")\n",
    "        plt.show()"
   ]
  },
  {
   "cell_type": "code",
   "execution_count": null,
   "metadata": {
    "scrolled": false
   },
   "outputs": [],
   "source": [
    "visualize_columns()"
   ]
  },
  {
   "cell_type": "code",
   "execution_count": null,
   "metadata": {},
   "outputs": [],
   "source": [
    "# import matplotlib.pyplot as plt\n",
    "# import seaborn as sns\n",
    "\n",
    "# def visualize_columns(df, float_cols, perc_cols, cat_cols, date_cols):\n",
    "#     '''\n",
    "#     This function visualizes all columns\n",
    "#       - Box-and-whisker plots for continuous variables\n",
    "#       - Lists of distinct values for categorical columns\n",
    "#       - A timeline density for dates\n",
    "#     '''\n",
    "    \n",
    "#     # Float columns\n",
    "#     for i in float_cols + perc_cols:\n",
    "#         plt.figure(figsize=(8, 4))\n",
    "#         sns.boxplot(x=df[i])\n",
    "#         plt.grid(True)\n",
    "        \n",
    "#         # Print the three highest values\n",
    "#         highest_vals = sorted(df[i].dropna(), reverse=True)[:3]\n",
    "#         smallest_val = min(df[i].dropna())\n",
    "#         plt.title(f\"{i}\\nTop 3 Max: {highest_vals} \\nMin: {smallest_val}\")\n",
    "#         plt.show()\n",
    "        \n",
    "#     # Categorical columns \n",
    "#     for i in cat_cols:\n",
    "#         plt.figure(figsize=(8, 4))\n",
    "#         sns.countplot(data=df, x=i, order=df[i].value_counts().index)\n",
    "#         plt.title(f\"{i} - {len(df[i].unique())} distinct values\")\n",
    "#         plt.xticks(rotation=90)\n",
    "#         plt.grid(True)\n",
    "#         plt.show()\n",
    "    \n",
    "#     # Date columns\n",
    "#     for i in date_cols:\n",
    "#         plt.figure(figsize=(8, 4))\n",
    "#         df[df[i].isnull() == False][i].apply(lambda x : str(x.year) +\n",
    "#                                             \"-\" + str(x.month)).value_counts(ascending = True).sort_index().plot(kind='bar')\n",
    "#         plt.title(f\"{i} ({df[i].isnull().sum()} null values)\")\n",
    "#         plt.grid(True)\n",
    "#         plt.show()\n",
    "\n",
    "# # Usage example:\n",
    "# # visualize_columns(final_data, float_cols, perc_cols, cat_cols, date_cols)"
   ]
  },
  {
   "cell_type": "markdown",
   "metadata": {},
   "source": [
    " # To do (B)\n",
    "\n",
    " Try visualizing the new variables and other pairs of variables\n"
   ]
  },
  {
   "cell_type": "code",
   "execution_count": null,
   "metadata": {
    "scrolled": false
   },
   "outputs": [],
   "source": [
    "import plotly.express as px\n",
    "\n",
    "def visualize_new_columns_with_plotly(final_data, float_cols, cat_cols):\n",
    "    \n",
    "    # Float columns\n",
    "    for i in float_cols:\n",
    "        fig = px.box(final_data, y=i, title=f\"Boxplot of {i}\")\n",
    "        fig.show()\n",
    "        \n",
    "        # Print the three highest values and the smallest value\n",
    "        highest_vals = sorted(final_data[i].dropna(), reverse=True)[:3]\n",
    "        smallest_val = final_data[i].min()\n",
    "        print(f\"Top 3 Max for {i}: {highest_vals} \\nMin for {i}: {smallest_val}\\n\")\n",
    "        \n",
    "    # Categorical columns\n",
    "    for i in cat_cols:\n",
    "        if i == 'zip_code':\n",
    "            # Group by the first 3 digits of the zip code to represent broader geographical regions\n",
    "            final_data['zip_region'] = final_data['zip_code'].str[:3]\n",
    "            fig = px.histogram(final_data, x='zip_region', title=f\"Countplot of {i} by region\")\n",
    "        else:\n",
    "            fig = px.histogram(final_data, x=i, title=f\"Countplot of {i}\")\n",
    "        \n",
    "        fig.show()\n",
    "        \n",
    "        print(f\"{i} has {len(final_data[i].unique())} distinct values.\")\n",
    "        print(final_data[i].value_counts(), '\\n')\n",
    "\n",
    "# Newly added float columns\n",
    "new_float_cols = ['inq_last_6mths', 'acc_now_delinq', 'mths_since_last_delinq']\n",
    "\n",
    "# Newly added categorical columns\n",
    "new_cat_cols = ['zip_code', 'sub_grade']\n",
    "\n",
    "# Assuming final_data contains your actual data\n",
    "# final_data = data_now[cols_to_pick].copy()\n",
    "\n",
    "# Call the visualize_new_columns_with_plotly function\n",
    "visualize_new_columns_with_plotly(final_data, new_float_cols, new_cat_cols)"
   ]
  },
  {
   "cell_type": "code",
   "execution_count": null,
   "metadata": {
    "scrolled": false
   },
   "outputs": [],
   "source": [
    "# # Your existing lists of columns and their types\n",
    "# cols_to_pick = ['id','loan_amnt','funded_amnt','term','int_rate',\n",
    "#                 'installment','grade','emp_length','home_ownership',\n",
    "#                 'annual_inc','verification_status','issue_d',\n",
    "#                 'loan_status','purpose','dti','delinq_2yrs',\n",
    "#                 'earliest_cr_line','open_acc','pub_rec',\n",
    "#                 'revol_bal','revol_util','total_pymnt',\n",
    "#                 'last_pymnt_d','recoveries', 'zip_code', 'sub_grade', \n",
    "#                 'inq_last_6mths', 'acc_now_delinq', 'mths_since_last_delinq']\n",
    "\n",
    "# float_cols = ['loan_amnt', 'funded_amnt', 'installment', 'annual_inc',\n",
    "#               'dti', 'revol_bal', 'delinq_2yrs', 'open_acc', 'pub_rec',\n",
    "#               'total_pymnt', 'recoveries', 'inq_last_6mths', 'acc_now_delinq', \n",
    "#               'mths_since_last_delinq']\n",
    "\n",
    "# cat_cols = ['term', 'grade', 'emp_length', 'home_ownership',\n",
    "#             'verification_status', 'loan_status', 'purpose', 'zip_code', 'sub_grade']\n",
    "\n",
    "# perc_cols = ['int_rate', 'revol_util']\n",
    "\n",
    "# date_cols = ['issue_d', 'earliest_cr_line', 'last_pymnt_d']\n",
    "\n",
    "# # Ensure that we have types for every column\n",
    "# assert set(cols_to_pick) - set(float_cols) - set(cat_cols) - set(perc_cols) - set(date_cols) == set([\"id\"])\n",
    "\n",
    "# # Assuming final_data contains your actual data\n",
    "# # final_data = data_now[cols_to_pick].copy()\n",
    "\n",
    "# # Call the visualize_columns function\n",
    "# visualize_columns(final_data, float_cols, perc_cols, cat_cols, date_cols)"
   ]
  },
  {
   "cell_type": "markdown",
   "metadata": {},
   "source": [
    " ## Step 4 - Handle outliers"
   ]
  },
  {
   "cell_type": "code",
   "execution_count": null,
   "metadata": {},
   "outputs": [],
   "source": [
    "# There are quite a few outliers, but the two most obvious\n",
    "# ones to remove are in annual_inc, revol_bal Remove these.\n",
    "n_rows = len(final_data)\n",
    "final_data = final_data[final_data.annual_inc < 1000000]\n",
    "final_data = final_data[final_data.revol_bal < 400000]\n",
    "final_data = final_data[final_data.dti < 200]\n",
    "print(\"Removed \" + str(n_rows - len(final_data)) + \" rows\")"
   ]
  },
  {
   "cell_type": "code",
   "execution_count": null,
   "metadata": {},
   "outputs": [],
   "source": [
    "# Remove all loans that are too recent to have been paid off or\n",
    "# defaulted\n",
    "n_rows = len(final_data)\n",
    "final_data = final_data[final_data.loan_status.isin(['Fully Paid','Charged Off','Default'])]\n",
    "print(\"Removed \" + str(n_rows - len(final_data)) + \" rows\")"
   ]
  },
  {
   "cell_type": "code",
   "execution_count": null,
   "metadata": {},
   "outputs": [],
   "source": [
    "# Only include loans issued since 2009\n",
    "n_rows = len(final_data)\n",
    "final_data = final_data[final_data.issue_d >= datetime.date(2009, 1, 1)]\n",
    "print(\"Removed \" + str(n_rows - len(final_data)) + \" rows\")"
   ]
  },
  {
   "cell_type": "code",
   "execution_count": null,
   "metadata": {},
   "outputs": [],
   "source": [
    "# Visualize the data again\n",
    "visualize_columns()"
   ]
  },
  {
   "cell_type": "markdown",
   "metadata": {},
   "source": [
    " ### Drop null values"
   ]
  },
  {
   "cell_type": "code",
   "execution_count": null,
   "metadata": {},
   "outputs": [],
   "source": [
    "# Deal with null values. We allow categorical variables to be null\n",
    "# OTHER than grade, which is a particularly important categorical.\n",
    "# All non-categorical variables must be non-null, and we drop\n",
    "# rows that do not meet this requirement\n",
    "required_cols = set(cols_to_pick) - set(cat_cols) - set([\"id\"])\n",
    "required_cols.add(\"grade\")\n",
    "\n",
    "n_rows = len(final_data)\n",
    "final_data.dropna(subset = required_cols ,inplace=True)\n",
    "print(\"Removed \" + str(n_rows - len(final_data)) + \" rows\")"
   ]
  },
  {
   "cell_type": "code",
   "execution_count": null,
   "metadata": {},
   "outputs": [],
   "source": [
    "# Some of the columns selected will not be used directly in the model, but will be used to generate other features.\n",
    "# Create variables specifying the features that will be used\n",
    "\n",
    "# All categorical columns other than \"loan_status\" will be used as discrete features\n",
    "discrete_features = list(set(cat_cols) - set([\"loan_status\"]))\n",
    "\n",
    "# All numeric columns will be used as continuous features\n",
    "continuous_features = list(float_cols + perc_cols)"
   ]
  },
  {
   "cell_type": "markdown",
   "metadata": {},
   "source": [
    " ## Step 5 - Save a Pickle"
   ]
  },
  {
   "cell_type": "code",
   "execution_count": null,
   "metadata": {},
   "outputs": [],
   "source": [
    "# Remove the total_pymnt from the list of continuous features; this\n",
    "# variable is highly predictive of the outcome but is not known at\n",
    "# the time the loan is issued\n",
    "continuous_features = [i for i in continuous_features if i not in [\"total_pymnt\", \"recoveries\"]]"
   ]
  },
  {
   "cell_type": "code",
   "execution_count": null,
   "metadata": {},
   "outputs": [],
   "source": [
    "# Define the output path for the pickle\n",
    "pickle_file = \"/\".join(['.', \"PickleData\", \"clean_data.pickle\"])\n",
    "os.makedirs(os.path.dirname(pickle_file), exist_ok=True)\n",
    "pickle.dump( [final_data, discrete_features, continuous_features], open(pickle_file, \"wb\") )"
   ]
  },
  {
   "cell_type": "code",
   "execution_count": null,
   "metadata": {},
   "outputs": [],
   "source": [
    "final_data.head()"
   ]
  },
  {
   "cell_type": "markdown",
   "metadata": {},
   "source": [
    " ## Read from Pickle if Saved\n",
    " Read data from saved pickle files"
   ]
  },
  {
   "cell_type": "code",
   "execution_count": null,
   "metadata": {},
   "outputs": [],
   "source": [
    "### Read the data and features from the pickle\n",
    "final_data, discrete_features, continuous_features = pickle.load( open( \"./PickleData/clean_data.pickle\", \"rb\" ) )\n",
    "#final_data, discrete_features, continuous_features = pickle.load( open( \"./PickleData/201213clean_data.pickle\", \"rb\" ) )"
   ]
  },
  {
   "cell_type": "code",
   "execution_count": null,
   "metadata": {},
   "outputs": [],
   "source": [
    "final_data.head()"
   ]
  },
  {
   "cell_type": "markdown",
   "metadata": {},
   "source": [
    " ## Step 6 Prepare your presentation.\n",
    "\n",
    " Your presentation should contain at most 6 slides.\n",
    "\n",
    " 1) Begin by giving an overview of the project. What is the problem you wish to solve, what are the objectives?\n",
    "\n",
    " How will you evaluate the performance of the portfolio you provide? How will you measure success?\n",
    "\n",
    " What are the business KPIs?\n",
    "\n",
    " 2) What variables did you select for further inspection? Why do you think they will be useful?\n",
    "\n",
    " You may support any argument with a visualization.\n",
    "\n",
    " 3) List any insight you gained by looking at the data visualization or any other data analysis that you perform.\n",
    "\n",
    " 4) List 3-5 hypothesis about which variables will be important for analysis, and how they will affect the outcome.\n",
    "\n",
    " 5) State your conclusions. What is the main idea you wish to convey with the presentation? Do you think the data available will be useful to solve the problem?\n"
   ]
  }
 ],
 "metadata": {
  "kernelspec": {
   "display_name": "Python 3 (ipykernel)",
   "language": "python",
   "name": "python3"
  },
  "language_info": {
   "codemirror_mode": {
    "name": "ipython",
    "version": 3
   },
   "file_extension": ".py",
   "mimetype": "text/x-python",
   "name": "python",
   "nbconvert_exporter": "python",
   "pygments_lexer": "ipython3",
   "version": "3.9.13"
  }
 },
 "nbformat": 4,
 "nbformat_minor": 2
}
